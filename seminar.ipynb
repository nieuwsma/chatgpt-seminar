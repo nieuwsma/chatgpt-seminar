{
 "cells": [
  {
   "cell_type": "markdown",
   "source": [
    "# Merging Minds and Machines: A Deep Dive into Generative AI for Software Engineers\n",
    "\n",
    "Andrew Nieuwsma & Jeff Fougere\n",
    "October 7th, 2023\n"
   ],
   "metadata": {
    "collapsed": false
   },
   "id": "40aebc28a9d00318"
  },
  {
   "cell_type": "markdown",
   "source": [
    "I will be using Python + Jupyter notebook\n",
    "You may use whatever you are comfortable programming in, or consider a language you are not comfortable in, for an added challenge.\n"
   ],
   "metadata": {
    "collapsed": false
   },
   "id": "cbc0986e382d6bea"
  },
  {
   "cell_type": "markdown",
   "source": [
    "# Warmup\n",
    "\n",
    "Challenge: Write a program to reverse a string.\n",
    "\n"
   ],
   "metadata": {
    "collapsed": false
   },
   "id": "318de399e3a53401"
  },
  {
   "cell_type": "code",
   "execution_count": 8,
   "outputs": [
    {
     "data": {
      "text/plain": "['olleh', 'dlrow', 'nohtyp', 'IAnepO', '4-TPG', 'racecar', 'madam', '']"
     },
     "execution_count": 8,
     "metadata": {},
     "output_type": "execute_result"
    }
   ],
   "source": [
    "def reverse_string(s: str) -> str:\n",
    "    \"\"\"Reverses a given string.\"\"\"\n",
    "    return s[::-1]\n",
    "\n",
    "# Test data\n",
    "test_strings = [\n",
    "    \"hello\",\n",
    "    \"world\",\n",
    "    \"python\",\n",
    "    \"OpenAI\",\n",
    "    \"GPT-4\",\n",
    "    \"racecar\",\n",
    "    \"madam\",\n",
    "    \"\"\n",
    "]\n",
    "\n",
    "reversed_strings = [reverse_string(s) for s in test_strings]\n",
    "reversed_strings\n"
   ],
   "metadata": {
    "collapsed": false,
    "ExecuteTime": {
     "end_time": "2023-10-07T01:04:37.286070Z",
     "start_time": "2023-10-07T01:04:37.233333Z"
    }
   },
   "id": "eb43eff9b7a343a4"
  },
  {
   "cell_type": "markdown",
   "source": [
    "# Exercise 1 - Exploring coding"
   ],
   "metadata": {
    "collapsed": false
   },
   "id": "e7133f8cfaeb7662"
  },
  {
   "cell_type": "markdown",
   "source": [
    "# Exercise 1a - Base Function\n",
    "\n",
    "Prompt: Define a function \n",
    "is_palindrome(text: str) -> bool \n",
    "which returns True if the text is a palindrome and False otherwise.\n"
   ],
   "metadata": {
    "collapsed": false
   },
   "id": "8f945512d4fb49f3"
  },
  {
   "cell_type": "code",
   "execution_count": 9,
   "outputs": [
    {
     "data": {
      "text/plain": "[True, True, False, True, True, False, True, True]"
     },
     "execution_count": 9,
     "metadata": {},
     "output_type": "execute_result"
    }
   ],
   "source": [
    "def is_palindrome(text: str) -> bool:\n",
    "    \"\"\"Determines if the given text is a palindrome.\"\"\"\n",
    "    cleaned_text = ''.join(e for e in text if e.isalnum()).lower()\n",
    "    return cleaned_text == cleaned_text[::-1]\n",
    "\n",
    "# Test data\n",
    "test_texts = [\n",
    "    \"racecar\",\n",
    "    \"madam\",\n",
    "    \"hello\",\n",
    "    \"A man, a plan, a canal, Panama!\",\n",
    "    \"Was it a car or a cat I saw?\",\n",
    "    \"Not a palindrome\",\n",
    "    \"No 'x' in Nixon\",\n",
    "    \"Mr. Owl ate my metal worm\"\n",
    "]\n",
    "\n",
    "palindrome_results = [is_palindrome(text) for text in test_texts]\n",
    "palindrome_results\n"
   ],
   "metadata": {
    "collapsed": false,
    "ExecuteTime": {
     "end_time": "2023-10-07T01:04:37.286778Z",
     "start_time": "2023-10-07T01:04:37.246296Z"
    }
   },
   "id": "4ddff0d83b8aa6b9"
  },
  {
   "cell_type": "markdown",
   "source": [
    "# Exercise 1b - Preprocessing\n",
    "\n",
    "Prompt: Modify the is_palindrome function to preprocess the text by removing punctuation and spaces, and converting all characters to lowercase.\n",
    "\n"
   ],
   "metadata": {
    "collapsed": false
   },
   "id": "a6a81c1e8c77bfb7"
  },
  {
   "cell_type": "code",
   "execution_count": 10,
   "outputs": [
    {
     "data": {
      "text/plain": "[True, True, False, True, True, False, True, True]"
     },
     "execution_count": 10,
     "metadata": {},
     "output_type": "execute_result"
    }
   ],
   "source": [
    "def is_palindrome_modified(text: str) -> bool:\n",
    "    \"\"\"Determines if the given text is a palindrome after preprocessing.\"\"\"\n",
    "    # Preprocess: Remove punctuation, spaces and convert to lowercase\n",
    "    cleaned_text = ''.join(e for e in text if e.isalnum()).lower()\n",
    "    return cleaned_text == cleaned_text[::-1]\n",
    "\n",
    "# Test data (same as before for consistency)\n",
    "palindrome_results_modified = [is_palindrome_modified(text) for text in test_texts]\n",
    "palindrome_results_modified\n"
   ],
   "metadata": {
    "collapsed": false,
    "ExecuteTime": {
     "end_time": "2023-10-07T01:04:37.312891Z",
     "start_time": "2023-10-07T01:04:37.252261Z"
    }
   },
   "id": "c2f671d433c069c4"
  },
  {
   "cell_type": "markdown",
   "source": [
    "# Exercise 1c - Unit Tests\n",
    "\n",
    "Prompt: Write unit tests for the is_palindrome function to ensure its correctness.\n",
    "\n"
   ],
   "metadata": {
    "collapsed": false
   },
   "id": "ef063f75662f9382"
  },
  {
   "cell_type": "code",
   "execution_count": 11,
   "outputs": [
    {
     "name": "stderr",
     "output_type": "stream",
     "text": [
      "....\n",
      "----------------------------------------------------------------------\n",
      "Ran 4 tests in 0.002s\n",
      "\n",
      "OK\n"
     ]
    }
   ],
   "source": [
    "import unittest\n",
    "\n",
    "class TestIsPalindrome(unittest.TestCase):\n",
    "\n",
    "    def test_basic_palindromes(self):\n",
    "        self.assertTrue(is_palindrome_modified(\"racecar\"))\n",
    "        self.assertTrue(is_palindrome_modified(\"madam\"))\n",
    "        self.assertFalse(is_palindrome_modified(\"hello\"))\n",
    "\n",
    "    def test_palindromes_with_spaces_and_punctuations(self):\n",
    "        self.assertTrue(is_palindrome_modified(\"A man, a plan, a canal, Panama!\"))\n",
    "        self.assertTrue(is_palindrome_modified(\"Was it a car or a cat I saw?\"))\n",
    "        self.assertFalse(is_palindrome_modified(\"Not a palindrome\"))\n",
    "        self.assertTrue(is_palindrome_modified(\"No 'x' in Nixon\"))\n",
    "        self.assertTrue(is_palindrome_modified(\"Mr. Owl ate my metal worm\"))\n",
    "        \n",
    "    def test_case_sensitivity(self):\n",
    "        self.assertTrue(is_palindrome_modified(\"RaceCar\"))\n",
    "        self.assertTrue(is_palindrome_modified(\"MadAm\"))\n",
    "\n",
    "    def test_empty_string(self):\n",
    "        self.assertTrue(is_palindrome_modified(\"\"))\n",
    "\n",
    "# Run the tests\n",
    "test_suite = unittest.defaultTestLoader.loadTestsFromTestCase(TestIsPalindrome)\n",
    "test_runner = unittest.TextTestRunner()\n",
    "test_results = test_runner.run(test_suite)\n"
   ],
   "metadata": {
    "collapsed": false,
    "ExecuteTime": {
     "end_time": "2023-10-07T01:04:37.314034Z",
     "start_time": "2023-10-07T01:04:37.259561Z"
    }
   },
   "id": "5fa02f959d57be7d"
  },
  {
   "cell_type": "markdown",
   "source": [
    "# Exercise 1d - Unicode\n",
    "\n",
    "Prompt: Modify the palindrome checker to handle Unicode characters and emojis. Add unit tests to check the handling of Unicode characters and emojis.\n",
    "\n"
   ],
   "metadata": {
    "collapsed": false
   },
   "id": "f8f381d4f64ad7db"
  },
  {
   "cell_type": "code",
   "execution_count": 12,
   "outputs": [
    {
     "name": "stderr",
     "output_type": "stream",
     "text": [
      "..\n",
      "----------------------------------------------------------------------\n",
      "Ran 2 tests in 0.001s\n",
      "\n",
      "OK\n"
     ]
    }
   ],
   "source": [
    "import string\n",
    "\n",
    "def is_palindrome_unicode(text: str) -> bool:\n",
    "    \"\"\"Determines if the given text (including Unicode characters and emojis) is a palindrome after preprocessing.\"\"\"\n",
    "    # Remove punctuations and spaces and convert to lowercase\n",
    "    cleaned_text = ''.join(e for e in text if e.isalnum() or e not in string.printable).lower()\n",
    "    return cleaned_text == cleaned_text[::-1]\n",
    "\n",
    "class TestIsPalindromeUnicode(unittest.TestCase):\n",
    "\n",
    "    def test_unicode_palindromes(self):\n",
    "        self.assertTrue(is_palindrome_unicode(\"ащьща\"))  # Cyrillic\n",
    "        self.assertTrue(is_palindrome_unicode(\"日本語語本日\"))  # Japanese\n",
    "        self.assertFalse(is_palindrome_unicode(\"日本語\"))\n",
    "\n",
    "    def test_emojis(self):\n",
    "        self.assertTrue(is_palindrome_unicode(\"😀😂😀\"))\n",
    "        self.assertTrue(is_palindrome_unicode(\"😀😂😂😀\"))\n",
    "        self.assertFalse(is_palindrome_unicode(\"😀😂\"))\n",
    "\n",
    "# Run the tests\n",
    "test_suite_unicode = unittest.defaultTestLoader.loadTestsFromTestCase(TestIsPalindromeUnicode)\n",
    "test_runner_unicode = unittest.TextTestRunner()\n",
    "test_results_unicode = test_runner_unicode.run(test_suite_unicode)\n"
   ],
   "metadata": {
    "collapsed": false,
    "ExecuteTime": {
     "end_time": "2023-10-07T01:04:37.314467Z",
     "start_time": "2023-10-07T01:04:37.266932Z"
    }
   },
   "id": "1ef1a92dac2ead58"
  },
  {
   "cell_type": "markdown",
   "source": [
    "# Exercise 2 - Understanding Code\n",
    "\n",
    "https://github.com/TheAlgorithms/Python\n",
    "\n",
    "Purpose: explain and document code, propose suggested improvements\n",
    "\n"
   ],
   "metadata": {
    "collapsed": false
   },
   "id": "e0b437458db59ae6"
  },
  {
   "cell_type": "markdown",
   "source": [
    "# Exercise 2a - Read the code\n",
    "\n",
    "Task: Read the code and explain how this code works \n",
    "Prompt: Explain the code to me\n",
    "Review: Who was more right? \n",
    "\n",
    "https://github.com/TheAlgorithms/Python/tree/master\n"
   ],
   "metadata": {
    "collapsed": false
   },
   "id": "d7522cb6ab9323d6"
  },
  {
   "cell_type": "markdown",
   "source": [
    "# Exercise 2b - Big O notation\n",
    "\n",
    "Task: Read the code and reason about its big-O notation \n",
    "Prompt: Reason about the big-O notation\n",
    "Review: Who was more right? \n",
    "\n",
    "https://github.com/TheAlgorithms/Python/tree/master\n"
   ],
   "metadata": {
    "collapsed": false
   },
   "id": "939a68d792382385"
  },
  {
   "cell_type": "markdown",
   "source": [
    "# Exercise 2c - Propose enhancements\n",
    "\n",
    "\n",
    "Task: Read the code, propose enhancements or clarifications to the code.\n",
    "Prompt: Propose enhancements or clarifications to the code.\n",
    "Review: Who was more right? \n",
    "\n",
    "https://github.com/TheAlgorithms/Python/tree/master\n"
   ],
   "metadata": {
    "collapsed": false
   },
   "id": "2e85ade805304af4"
  },
  {
   "cell_type": "markdown",
   "source": [
    "# Exercise 3 - Guide your process\n"
   ],
   "metadata": {
    "collapsed": false
   },
   "id": "284cbfff9dfbb7c0"
  },
  {
   "cell_type": "markdown",
   "source": [
    "# Exercise 3a - Design Patterns\n",
    "\n",
    "\n",
    "Prompt: if I was going to make a real time trading platform for commodities, what are some design patterns I would use? What are anti-patterns to stay away from?\n",
    "\n",
    "Discuss: Review the answer in your group\n",
    "\n"
   ],
   "metadata": {
    "collapsed": false
   },
   "id": "4754482cbd0a91dc"
  },
  {
   "cell_type": "markdown",
   "source": [
    "# Exercise 3aa - Viewpoints and Perspectives\n",
    "\n",
    "Prompt: Using the viewpoints and perspectives framework, define what the likely viewpoints and perspectives are for our previous prompt.\n",
    "\n",
    "Discuss: Review the answer in your group\n",
    "\n"
   ],
   "metadata": {
    "collapsed": false
   },
   "id": "318063c486647432"
  },
  {
   "cell_type": "markdown",
   "source": [
    "# Exercise 3b - REST vs gRPC\n",
    "\n",
    "Prompt: Help me to understand when to use gRPC over REST\n",
    "\n",
    "Discuss: Review the answer in your group\n"
   ],
   "metadata": {
    "collapsed": false
   },
   "id": "def7973e2369a85"
  },
  {
   "cell_type": "markdown",
   "source": [
    "# Exercise 3c - Algorithms\n",
    "\n",
    "\n",
    "Prompt: Explain the traveling salesman problem at three different maturity levels: 6th grade, 12th grade, Masters student\n",
    "\n",
    "Discuss: Review the answer in your group\n"
   ],
   "metadata": {
    "collapsed": false
   },
   "id": "61028254b64c41fe"
  },
  {
   "cell_type": "markdown",
   "source": [
    "# Exercise 3d - Deep dive\n",
    "\n",
    "\n",
    "Prompt: Why is Np != P?\n",
    "\n",
    "Discuss: Review the answer in your group\n",
    "\n",
    "\n"
   ],
   "metadata": {
    "collapsed": false
   },
   "id": "11125ba1c7c9408"
  },
  {
   "cell_type": "markdown",
   "source": [
    "# Open Gym\n",
    "\n",
    "1. Using a data source from www.data.gov \n",
    "1. Work with ChatGPT to write a quick program to visualize the data.  \n",
    "1. Consider describing the data set to ChatGPT and asking it what would be an interesting way to show the data.\n"
   ],
   "metadata": {
    "collapsed": false
   },
   "id": "a8a157c7d9d4875f"
  },
  {
   "cell_type": "code",
   "execution_count": 12,
   "outputs": [],
   "source": [],
   "metadata": {
    "collapsed": false,
    "ExecuteTime": {
     "end_time": "2023-10-07T01:04:37.327814Z",
     "start_time": "2023-10-07T01:04:37.279921Z"
    }
   },
   "id": "cddc30ef69bb3a47"
  }
 ],
 "metadata": {
  "kernelspec": {
   "display_name": "Python 3",
   "language": "python",
   "name": "python3"
  },
  "language_info": {
   "codemirror_mode": {
    "name": "ipython",
    "version": 2
   },
   "file_extension": ".py",
   "mimetype": "text/x-python",
   "name": "python",
   "nbconvert_exporter": "python",
   "pygments_lexer": "ipython2",
   "version": "2.7.6"
  }
 },
 "nbformat": 4,
 "nbformat_minor": 5
}
